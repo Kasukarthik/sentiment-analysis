{
 "cells": [
  {
   "cell_type": "code",
   "execution_count": 68,
   "id": "c986fde1",
   "metadata": {},
   "outputs": [],
   "source": [
    "import pandas as pd \n",
    "import nltk\n",
    "from nltk.corpus import stopwords\n",
    "from nltk.stem.porter import PorterStemmer\n",
    "import re\n",
    "from sklearn.feature_extraction.text import TfidfVectorizer\n",
    "from sklearn.model_selection import train_test_split\n",
    "from sklearn.naive_bayes import MultinomialNB,GaussianNB\n",
    "from sklearn.metrics import accuracy_score"
   ]
  },
  {
   "cell_type": "code",
   "execution_count": 3,
   "id": "c2f324bb",
   "metadata": {},
   "outputs": [],
   "source": [
    "data=pd.read_csv(\"C:\\\\Users\\\\kasuk\\\\OneDrive\\\\Desktop\\\\python files\\\\stock_market-sentiment.csv\")"
   ]
  },
  {
   "cell_type": "code",
   "execution_count": 4,
   "id": "184f8ec7",
   "metadata": {},
   "outputs": [
    {
     "data": {
      "text/html": [
       "<div>\n",
       "<style scoped>\n",
       "    .dataframe tbody tr th:only-of-type {\n",
       "        vertical-align: middle;\n",
       "    }\n",
       "\n",
       "    .dataframe tbody tr th {\n",
       "        vertical-align: top;\n",
       "    }\n",
       "\n",
       "    .dataframe thead th {\n",
       "        text-align: right;\n",
       "    }\n",
       "</style>\n",
       "<table border=\"1\" class=\"dataframe\">\n",
       "  <thead>\n",
       "    <tr style=\"text-align: right;\">\n",
       "      <th></th>\n",
       "      <th>Text</th>\n",
       "      <th>Sentiment</th>\n",
       "    </tr>\n",
       "  </thead>\n",
       "  <tbody>\n",
       "    <tr>\n",
       "      <th>0</th>\n",
       "      <td>Kickers on my watchlist XIDE TIT SOQ PNK CPW B...</td>\n",
       "      <td>1</td>\n",
       "    </tr>\n",
       "    <tr>\n",
       "      <th>1</th>\n",
       "      <td>user: AAP MOVIE. 55% return for the FEA/GEED i...</td>\n",
       "      <td>1</td>\n",
       "    </tr>\n",
       "    <tr>\n",
       "      <th>2</th>\n",
       "      <td>user I'd be afraid to short AMZN - they are lo...</td>\n",
       "      <td>1</td>\n",
       "    </tr>\n",
       "    <tr>\n",
       "      <th>3</th>\n",
       "      <td>MNTA Over 12.00</td>\n",
       "      <td>1</td>\n",
       "    </tr>\n",
       "    <tr>\n",
       "      <th>4</th>\n",
       "      <td>OI  Over 21.37</td>\n",
       "      <td>1</td>\n",
       "    </tr>\n",
       "  </tbody>\n",
       "</table>\n",
       "</div>"
      ],
      "text/plain": [
       "                                                Text  Sentiment\n",
       "0  Kickers on my watchlist XIDE TIT SOQ PNK CPW B...          1\n",
       "1  user: AAP MOVIE. 55% return for the FEA/GEED i...          1\n",
       "2  user I'd be afraid to short AMZN - they are lo...          1\n",
       "3                                  MNTA Over 12.00            1\n",
       "4                                   OI  Over 21.37            1"
      ]
     },
     "execution_count": 4,
     "metadata": {},
     "output_type": "execute_result"
    }
   ],
   "source": [
    "data.head()"
   ]
  },
  {
   "cell_type": "code",
   "execution_count": 5,
   "id": "e26cf4aa",
   "metadata": {},
   "outputs": [
    {
     "data": {
      "text/plain": [
       "(5791, 2)"
      ]
     },
     "execution_count": 5,
     "metadata": {},
     "output_type": "execute_result"
    }
   ],
   "source": [
    "data.shape"
   ]
  },
  {
   "cell_type": "code",
   "execution_count": 6,
   "id": "570a5b66",
   "metadata": {},
   "outputs": [
    {
     "data": {
      "text/plain": [
       "Text         0\n",
       "Sentiment    0\n",
       "dtype: int64"
      ]
     },
     "execution_count": 6,
     "metadata": {},
     "output_type": "execute_result"
    }
   ],
   "source": [
    "data.isnull().sum()"
   ]
  },
  {
   "cell_type": "code",
   "execution_count": 10,
   "id": "c86e5edf",
   "metadata": {},
   "outputs": [
    {
     "data": {
      "text/plain": [
       " 1    3685\n",
       "-1    2106\n",
       "Name: Sentiment, dtype: int64"
      ]
     },
     "execution_count": 10,
     "metadata": {},
     "output_type": "execute_result"
    }
   ],
   "source": [
    "data['Sentiment'].value_counts()"
   ]
  },
  {
   "cell_type": "code",
   "execution_count": 41,
   "id": "977b5c53",
   "metadata": {},
   "outputs": [],
   "source": [
    "text=data.drop(columns=['Sentiment'])\n",
    "y=data['Sentiment']"
   ]
  },
  {
   "cell_type": "code",
   "execution_count": 35,
   "id": "91ed134c",
   "metadata": {},
   "outputs": [
    {
     "name": "stderr",
     "output_type": "stream",
     "text": [
      "[nltk_data] Downloading package stopwords to\n",
      "[nltk_data]     C:\\Users\\kasuk\\AppData\\Roaming\\nltk_data...\n",
      "[nltk_data]   Package stopwords is already up-to-date!\n"
     ]
    },
    {
     "data": {
      "text/plain": [
       "True"
      ]
     },
     "execution_count": 35,
     "metadata": {},
     "output_type": "execute_result"
    }
   ],
   "source": [
    "nltk.download('stopwords')"
   ]
  },
  {
   "cell_type": "code",
   "execution_count": 36,
   "id": "061651bf",
   "metadata": {},
   "outputs": [],
   "source": [
    "ps=PorterStemmer()"
   ]
  },
  {
   "cell_type": "code",
   "execution_count": 37,
   "id": "163e043a",
   "metadata": {},
   "outputs": [],
   "source": [
    "def stemming(text):\n",
    "    sent=re.sub('[^a-zA-Z]',' ',text)\n",
    "    sent=sent.lower()\n",
    "    sent=sent.split()\n",
    "    sent=(ps.stem(word) for word in sent if not word in stopwords.words('english'))\n",
    "    sent=' '.join(sent)\n",
    "    return sent\n",
    "    "
   ]
  },
  {
   "cell_type": "code",
   "execution_count": 47,
   "id": "3ede2312",
   "metadata": {},
   "outputs": [],
   "source": [
    "stem=text['Text'].apply(stemming)"
   ]
  },
  {
   "cell_type": "code",
   "execution_count": 84,
   "id": "affae559",
   "metadata": {},
   "outputs": [
    {
     "name": "stdout",
     "output_type": "stream",
     "text": [
      "0       kicker watchlist xide tit soq pnk cpw bpz aj t...\n",
      "1       user aap movi return fea geed indic trade year...\n",
      "2       user afraid short amzn look like near monopoli...\n",
      "3                                                    mnta\n",
      "4                                                      oi\n",
      "                              ...                        \n",
      "5786    industri bodi cii said discom like suffer net ...\n",
      "5787    gold price slip rs investor book profit amid c...\n",
      "5788    worker bajaj auto agre wage cut period april t...\n",
      "5789    sharemarket live sensex day high point nifti t...\n",
      "5790    sensex nifti climb day high still key factor d...\n",
      "Name: Text, Length: 5791, dtype: object\n"
     ]
    }
   ],
   "source": [
    "print(stem)"
   ]
  },
  {
   "cell_type": "code",
   "execution_count": 48,
   "id": "adb9ff04",
   "metadata": {},
   "outputs": [],
   "source": [
    "feature_extraction=TfidfVectorizer()"
   ]
  },
  {
   "cell_type": "code",
   "execution_count": 72,
   "id": "982f1344",
   "metadata": {},
   "outputs": [],
   "source": [
    "x=feature_extraction.fit_transform(stem)"
   ]
  },
  {
   "cell_type": "code",
   "execution_count": 85,
   "id": "3ae037a2",
   "metadata": {},
   "outputs": [
    {
     "name": "stdout",
     "output_type": "stream",
     "text": [
      "  (0, 4823)\t0.16428287893867502\n",
      "  (0, 4873)\t0.24810443727377893\n",
      "  (0, 5478)\t0.13806876264171655\n",
      "  (0, 3873)\t0.5276778575791876\n",
      "  (0, 6326)\t0.12925084830807732\n",
      "  (0, 178)\t0.22999938564416786\n",
      "  (0, 755)\t0.27632809731730545\n",
      "  (0, 1310)\t0.2638389287895938\n",
      "  (0, 4786)\t0.27632809731730545\n",
      "  (0, 5758)\t0.27632809731730545\n",
      "  (0, 6244)\t0.2638389287895938\n",
      "  (0, 6970)\t0.2638389287895938\n",
      "  (0, 6745)\t0.19190452477856199\n",
      "  (0, 3456)\t0.2638389287895938\n",
      "  (1, 457)\t0.3528922278662217\n",
      "  (1, 7029)\t0.23765688379041464\n",
      "  (1, 3109)\t0.3058129510326692\n",
      "  (1, 2520)\t0.4356839147193478\n",
      "  (1, 2229)\t0.4356839147193478\n",
      "  (1, 5247)\t0.3263491417673498\n",
      "  (1, 4030)\t0.3911839351123099\n",
      "  (1, 4)\t0.13958340461635702\n",
      "  (1, 6553)\t0.1590025785998222\n",
      "  (1, 6326)\t0.20378859811348277\n",
      "  (2, 5513)\t0.32621940286376\n",
      "  :\t:\n",
      "  (5789, 3640)\t0.3331701193147124\n",
      "  (5789, 4890)\t0.3266463246496831\n",
      "  (5789, 3574)\t0.26649201113903936\n",
      "  (5789, 1137)\t0.1313901981395774\n",
      "  (5789, 508)\t0.21495905770448653\n",
      "  (5789, 2832)\t0.18092864648844995\n",
      "  (5789, 1451)\t0.15896362787202686\n",
      "  (5789, 5903)\t0.16012956647553353\n",
      "  (5789, 4794)\t0.1950141373397533\n",
      "  (5789, 6161)\t0.23864249845149071\n",
      "  (5790, 3412)\t0.4147195296898732\n",
      "  (5790, 4197)\t0.22701147941197755\n",
      "  (5790, 5496)\t0.2231887682656558\n",
      "  (5790, 2947)\t0.14438087962446666\n",
      "  (5790, 2158)\t0.372360815056748\n",
      "  (5790, 5929)\t0.2574873933284341\n",
      "  (5790, 1137)\t0.14352171257377572\n",
      "  (5790, 1734)\t0.33591164104868404\n",
      "  (5790, 1101)\t0.32157365459627485\n",
      "  (5790, 3449)\t0.2811020781350066\n",
      "  (5790, 2832)\t0.19763414292207954\n",
      "  (5790, 1451)\t0.17364105109954486\n",
      "  (5790, 6276)\t0.17702831253222961\n",
      "  (5790, 2833)\t0.2074772001598953\n",
      "  (5790, 5893)\t0.20347656764618444\n"
     ]
    }
   ],
   "source": [
    "print(x)"
   ]
  },
  {
   "cell_type": "code",
   "execution_count": 91,
   "id": "2528dd18",
   "metadata": {},
   "outputs": [],
   "source": [
    "xtrain,xtest,ytrain,ytest=train_test_split(x,y,test_size=0.2,random_state=1)"
   ]
  },
  {
   "cell_type": "code",
   "execution_count": 92,
   "id": "5dbd866e",
   "metadata": {},
   "outputs": [],
   "source": [
    "model=MultinomialNB()"
   ]
  },
  {
   "cell_type": "code",
   "execution_count": 93,
   "id": "4554fc02",
   "metadata": {},
   "outputs": [
    {
     "data": {
      "text/plain": [
       "MultinomialNB()"
      ]
     },
     "execution_count": 93,
     "metadata": {},
     "output_type": "execute_result"
    }
   ],
   "source": [
    "model.fit(xtrain,ytrain)"
   ]
  },
  {
   "cell_type": "code",
   "execution_count": 94,
   "id": "eff4934c",
   "metadata": {},
   "outputs": [],
   "source": [
    "train_prediction=model.predict(xtrain)"
   ]
  },
  {
   "cell_type": "code",
   "execution_count": 95,
   "id": "cdaf6146",
   "metadata": {},
   "outputs": [
    {
     "data": {
      "text/plain": [
       "0.8318221070811744"
      ]
     },
     "execution_count": 95,
     "metadata": {},
     "output_type": "execute_result"
    }
   ],
   "source": [
    "accuracy_score(ytrain,train_prediction)"
   ]
  },
  {
   "cell_type": "code",
   "execution_count": 96,
   "id": "069921f2",
   "metadata": {},
   "outputs": [],
   "source": [
    "test_prediction=model.predict(xtest)"
   ]
  },
  {
   "cell_type": "code",
   "execution_count": 97,
   "id": "c3418fc6",
   "metadata": {},
   "outputs": [
    {
     "data": {
      "text/plain": [
       "0.7428817946505608"
      ]
     },
     "execution_count": 97,
     "metadata": {},
     "output_type": "execute_result"
    }
   ],
   "source": [
    "accuracy_score(ytest,test_prediction)"
   ]
  },
  {
   "cell_type": "code",
   "execution_count": null,
   "id": "c0af0a0e",
   "metadata": {},
   "outputs": [],
   "source": []
  }
 ],
 "metadata": {
  "kernelspec": {
   "display_name": "Python 3 (ipykernel)",
   "language": "python",
   "name": "python3"
  },
  "language_info": {
   "codemirror_mode": {
    "name": "ipython",
    "version": 3
   },
   "file_extension": ".py",
   "mimetype": "text/x-python",
   "name": "python",
   "nbconvert_exporter": "python",
   "pygments_lexer": "ipython3",
   "version": "3.9.12"
  }
 },
 "nbformat": 4,
 "nbformat_minor": 5
}
